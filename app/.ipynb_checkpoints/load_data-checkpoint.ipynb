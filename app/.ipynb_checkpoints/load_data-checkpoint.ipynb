{
 "cells": [
  {
   "cell_type": "code",
   "execution_count": 1,
   "id": "1002bb43",
   "metadata": {},
   "outputs": [],
   "source": [
    "import influxdb_client, os, time\n",
    "from influxdb_client import InfluxDBClient, Point, WritePrecision\n",
    "from influxdb_client.client.write_api import SYNCHRONOUS\n",
    "import pandas as pd\n",
    "import yfinance as yf\n",
    "import matplotlib.pyplot as plt\n",
    "import os"
   ]
  },
  {
   "cell_type": "code",
   "execution_count": 2,
   "id": "a6b32461",
   "metadata": {},
   "outputs": [],
   "source": [
    "%matplotlib inline"
   ]
  },
  {
   "cell_type": "code",
   "execution_count": 3,
   "id": "8ea2f63f",
   "metadata": {},
   "outputs": [],
   "source": [
    "token = os.environ.get(\"INFLUXDB_TOKEN\")\n",
    "bucket = os.environ.get(\"INFLUXDB_BUCKET\")\n",
    "org = os.environ.get(\"INFLUXDB_ORG\")\n",
    "url = os.environ.get(\"INFLUXDB_URL\")\n",
    "client = influxdb_client.InfluxDBClient(url=url, token=token, org=org)\n",
    "write_api = client.write_api(write_options=SYNCHRONOUS)"
   ]
  },
  {
   "cell_type": "code",
   "execution_count": 4,
   "id": "0178eb84",
   "metadata": {},
   "outputs": [],
   "source": [
    "industries = { # manuelle Zuordnung der Branchen\n",
    "    \"AAPL\": \"Technology\",\n",
    "    \"MSFT\": \"Technology\",\n",
    "    \"GOOGL\": \"Technology\",\n",
    "    \"NFLX\": \"Entertainment\",\n",
    "    \"DIS\": \"Entertainment\",\n",
    "    \"AMZN\": \"E-Commerce\",\n",
    "    \"TSLA\": \"Automotive\",\n",
    "    \"MBG.DE\": \"Automotive\",\n",
    "    \"BMW.DE\": \"Automotive\",\n",
    "    \"META\": \"Social Media\",\n",
    "}"
   ]
  },
  {
   "cell_type": "code",
   "execution_count": 5,
   "id": "b36508f3",
   "metadata": {},
   "outputs": [],
   "source": [
    "def get_data(tickers, start_date, end_date):\n",
    "    df = yf.download(tickers, start=start_date, end=end_date, group_by='ticker')\n",
    "    return df"
   ]
  },
  {
   "cell_type": "code",
   "execution_count": null,
   "id": "f81fc3d9-525e-498b-959a-96f88ce47a3f",
   "metadata": {},
   "outputs": [],
   "source": []
  },
  {
   "cell_type": "code",
   "execution_count": 6,
   "id": "ce85fec7",
   "metadata": {},
   "outputs": [],
   "source": [
    "live_data = True\n",
    "start_date = \"2005-01-01\"\n",
    "end_date = \"2025-01-01\"\n",
    "tickers = [\"AAPL\", \"MSFT\", \"GOOGL\", \"NFLX\", \"DIS\", \"AMZN\", \"TSLA\", \"MBG.DE\", \"BMW.DE\", \"META\"] # kann bei Bedarf angepasst werden, Industrien sind optional"
   ]
  },
  {
   "cell_type": "code",
   "execution_count": 8,
   "id": "f14b1aa4",
   "metadata": {},
   "outputs": [
    {
     "name": "stderr",
     "output_type": "stream",
     "text": [
      "[*********************100%***********************]  10 of 10 completed\n",
      "\n",
      "10 Failed downloads:\n",
      "['GOOGL', 'TSLA', 'BMW.DE', 'META', 'NFLX', 'AMZN', 'DIS', 'MSFT', 'MBG.DE', 'AAPL']: YFRateLimitError('Too Many Requests. Rate limited. Try after a while.')\n"
     ]
    },
    {
     "name": "stdout",
     "output_type": "stream",
     "text": [
      "True\n"
     ]
    }
   ],
   "source": [
    "if live_data:\n",
    "    df = get_data(tickers, start_date, end_date)\n",
    "    if not df.empty:\n",
    "        df.to_csv(\"data.csv\")\n",
    "else:\n",
    "    df = pd.read_csv(\"data.csv\", header=[0, 1], index_col=0) #to keep multiindex structure (explanation?)"
   ]
  },
  {
   "cell_type": "code",
   "execution_count": null,
   "id": "0cc57d83-29fd-41fa-bfbc-bd286c83fe75",
   "metadata": {},
   "outputs": [],
   "source": []
  },
  {
   "cell_type": "code",
   "execution_count": null,
   "id": "134abc4d",
   "metadata": {},
   "outputs": [],
   "source": [
    "for index, row in df.iterrows():\n",
    "    companies = df.columns.levels[0]\n",
    "    for company in companies:\n",
    "        data = row[company]\n",
    "        point = (\n",
    "        Point(\"stock_history\")\n",
    "        .tag(\"ticker\", company)\n",
    "        .tag(\"industry\", industries.get(company, \"Unknown\")) # Falls Unternehmen keine Branche zugeordnet ist, wird Branche \"Unknown\" zugeordnet\n",
    "        .field(\"open\", data[\"Open\"])\n",
    "        .field(\"high\", data[\"High\"])\n",
    "        .field(\"low\", data[\"Low\"])\n",
    "        .field(\"close\", data[\"Close\"])\n",
    "        .field(\"volume\", data[\"Volume\"])\n",
    "        .time(index, WritePrecision.NS)\n",
    "    )\n",
    "        write_api.write(bucket=bucket, org=org, record=point)\n"
   ]
  }
 ],
 "metadata": {
  "kernelspec": {
   "display_name": "Python 3 (ipykernel)",
   "language": "python",
   "name": "python3"
  },
  "language_info": {
   "codemirror_mode": {
    "name": "ipython",
    "version": 3
   },
   "file_extension": ".py",
   "mimetype": "text/x-python",
   "name": "python",
   "nbconvert_exporter": "python",
   "pygments_lexer": "ipython3",
   "version": "3.11.6"
  }
 },
 "nbformat": 4,
 "nbformat_minor": 5
}
